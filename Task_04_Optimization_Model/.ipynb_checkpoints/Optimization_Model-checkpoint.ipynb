{
 "cells": [
  {
   "cell_type": "code",
   "execution_count": 11,
   "id": "7c1fda35-cca4-49da-88e9-6b87efc76b33",
   "metadata": {},
   "outputs": [],
   "source": [
    "# !pip install pulp"
   ]
  },
  {
   "cell_type": "code",
   "execution_count": 4,
   "id": "e6726184-4cfe-460c-999e-f42caf21369d",
   "metadata": {},
   "outputs": [],
   "source": [
    "from pulp import *"
   ]
  },
  {
   "cell_type": "code",
   "execution_count": 5,
   "id": "75ce7af4-9825-4da3-b5e0-847b22c30be8",
   "metadata": {},
   "outputs": [],
   "source": [
    "# 1. Define the Problem\n",
    "# A company produces two products (A and B) with limited resources.\n",
    "# The goal is to maximize profit.\n",
    "\n",
    "# Define the problem: maximize profit\n",
    "prob = LpProblem(\"Maximize_Production_Profit\", LpMaximize)\n"
   ]
  },
  {
   "cell_type": "code",
   "execution_count": 6,
   "id": "368df1da-c9f5-4816-a72e-556fe6db4ad2",
   "metadata": {},
   "outputs": [],
   "source": [
    "# 2. Define Decision Variables\n",
    "# Let x be the number of units of product A and y be the number of units of product B.\n",
    "# Define decision variables, with lower bound 0 (cannot produce negative quantities)\n",
    "a = LpVariable(\"A\", lowBound=0, cat='Integer')\n",
    "b = LpVariable(\"B\", lowBound=0, cat='Integer')\n"
   ]
  },
  {
   "cell_type": "code",
   "execution_count": 7,
   "id": "d21cd31c-7b49-47d6-b449-a134a770cd54",
   "metadata": {},
   "outputs": [],
   "source": [
    "# 3. Define the Objective Function\n",
    "# The objective is to maximize profit, where profit is calculated as:\n",
    "# Profit = 20*x + 30*y (example values)\n",
    "prob += 20*a + 30*b, \"Total_Profit\""
   ]
  },
  {
   "cell_type": "code",
   "execution_count": 8,
   "id": "0ce30b2b-84c9-487f-beab-90b9a634e876",
   "metadata": {},
   "outputs": [],
   "source": [
    "# 4. Define Constraints\n",
    "# Constraints represent resource limitations.\n",
    "# Example:\n",
    "# Raw material constraint: 2x + 3y <= 18\n",
    "prob += 2*a + 3*b <= 18, \"Raw_Material_Constraint\"\n",
    "# Labor constraint: 1x + 1y <= 8\n",
    "prob += a + b <= 8, \"Labor_Constraint\"\n",
    "# Demand constraint: x <= 5\n",
    "prob += a <= 5, \"Demand_A\"\n",
    "# Demand constraint: y <= 6\n",
    "prob += b <= 6, \"Demand_B\""
   ]
  },
  {
   "cell_type": "code",
   "execution_count": 9,
   "id": "ed9896c7-c512-48e1-8463-3e6b484c5937",
   "metadata": {},
   "outputs": [
    {
     "data": {
      "text/plain": [
       "1"
      ]
     },
     "execution_count": 9,
     "metadata": {},
     "output_type": "execute_result"
    }
   ],
   "source": [
    "# 5. Solve the Problem\n",
    "prob.solve()\n"
   ]
  },
  {
   "cell_type": "code",
   "execution_count": 10,
   "id": "6c9e1d3d-f7a3-4675-ae2f-04b0ae5a9686",
   "metadata": {},
   "outputs": [
    {
     "name": "stdout",
     "output_type": "stream",
     "text": [
      "Status: Optimal\n",
      "A = 3.0\n",
      "B = 4.0\n",
      "Optimal Total Profit =  180.0\n"
     ]
    }
   ],
   "source": [
    "# 6. Print the Results\n",
    "print(\"Status:\", LpStatus[prob.status])\n",
    "\n",
    "for v in prob.variables():\n",
    "    print(v.name, \"=\", v.varValue)\n",
    "\n",
    "print(\"Optimal Total Profit = \", value(prob.objective))\n"
   ]
  },
  {
   "cell_type": "code",
   "execution_count": null,
   "id": "fe441198-4592-46ae-8927-6aeaa35d3301",
   "metadata": {},
   "outputs": [],
   "source": []
  }
 ],
 "metadata": {
  "kernelspec": {
   "display_name": "Python 3 (ipykernel)",
   "language": "python",
   "name": "python3"
  },
  "language_info": {
   "codemirror_mode": {
    "name": "ipython",
    "version": 3
   },
   "file_extension": ".py",
   "mimetype": "text/x-python",
   "name": "python",
   "nbconvert_exporter": "python",
   "pygments_lexer": "ipython3",
   "version": "3.10.11"
  }
 },
 "nbformat": 4,
 "nbformat_minor": 5
}
